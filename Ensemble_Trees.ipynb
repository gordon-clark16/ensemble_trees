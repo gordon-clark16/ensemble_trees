{
  "nbformat": 4,
  "nbformat_minor": 0,
  "metadata": {
    "colab": {
      "name": "Ensemble_Trees.ipynb",
      "provenance": [],
      "authorship_tag": "ABX9TyPKMqQzPvXFdxmfnA1Qztti"
    },
    "kernelspec": {
      "name": "python3",
      "display_name": "Python 3"
    },
    "language_info": {
      "name": "python"
    }
  },
  "cells": [
    {
      "cell_type": "code",
      "metadata": {
        "colab": {
          "base_uri": "https://localhost:8080/"
        },
        "id": "fbgkWQyhHESX",
        "outputId": "1c34763e-03ab-4c62-f223-eef39697b27f"
      },
      "source": [
        "# mount drive to access data\n",
        "from google.colab import drive\n",
        "drive.mount('/content/drive')"
      ],
      "execution_count": 107,
      "outputs": [
        {
          "output_type": "stream",
          "name": "stdout",
          "text": [
            "Drive already mounted at /content/drive; to attempt to forcibly remount, call drive.mount(\"/content/drive\", force_remount=True).\n"
          ]
        }
      ]
    },
    {
      "cell_type": "code",
      "metadata": {
        "id": "38Y0wUN7Hlpd"
      },
      "source": [
        "# import libraries\n",
        "import pandas as pd\n",
        "import numpy as np\n",
        "import matplotlib.pyplot as plt\n",
        "from sklearn.model_selection import train_test_split\n",
        "from sklearn.ensemble import BaggingRegressor, RandomForestRegressor"
      ],
      "execution_count": 108,
      "outputs": []
    },
    {
      "cell_type": "code",
      "metadata": {
        "colab": {
          "base_uri": "https://localhost:8080/",
          "height": 206
        },
        "id": "iH-0SmJdISL0",
        "outputId": "6fed132a-dd8a-4906-8981-b422d5c2f475"
      },
      "source": [
        "# load data\n",
        "df = pd.read_csv('/content/drive/MyDrive/Coding Dojo/Raw Data/Boston_Housing_from_Sklearn.csv')\n",
        "df.head()"
      ],
      "execution_count": 109,
      "outputs": [
        {
          "output_type": "execute_result",
          "data": {
            "text/html": [
              "<div>\n",
              "<style scoped>\n",
              "    .dataframe tbody tr th:only-of-type {\n",
              "        vertical-align: middle;\n",
              "    }\n",
              "\n",
              "    .dataframe tbody tr th {\n",
              "        vertical-align: top;\n",
              "    }\n",
              "\n",
              "    .dataframe thead th {\n",
              "        text-align: right;\n",
              "    }\n",
              "</style>\n",
              "<table border=\"1\" class=\"dataframe\">\n",
              "  <thead>\n",
              "    <tr style=\"text-align: right;\">\n",
              "      <th></th>\n",
              "      <th>CRIM</th>\n",
              "      <th>NOX</th>\n",
              "      <th>RM</th>\n",
              "      <th>AGE</th>\n",
              "      <th>PTRATIO</th>\n",
              "      <th>LSTAT</th>\n",
              "      <th>PRICE</th>\n",
              "    </tr>\n",
              "  </thead>\n",
              "  <tbody>\n",
              "    <tr>\n",
              "      <th>0</th>\n",
              "      <td>0.00632</td>\n",
              "      <td>0.538</td>\n",
              "      <td>6.575</td>\n",
              "      <td>65.2</td>\n",
              "      <td>15.3</td>\n",
              "      <td>4.98</td>\n",
              "      <td>24.0</td>\n",
              "    </tr>\n",
              "    <tr>\n",
              "      <th>1</th>\n",
              "      <td>0.02731</td>\n",
              "      <td>0.469</td>\n",
              "      <td>6.421</td>\n",
              "      <td>78.9</td>\n",
              "      <td>17.8</td>\n",
              "      <td>9.14</td>\n",
              "      <td>21.6</td>\n",
              "    </tr>\n",
              "    <tr>\n",
              "      <th>2</th>\n",
              "      <td>0.02729</td>\n",
              "      <td>0.469</td>\n",
              "      <td>7.185</td>\n",
              "      <td>61.1</td>\n",
              "      <td>17.8</td>\n",
              "      <td>4.03</td>\n",
              "      <td>34.7</td>\n",
              "    </tr>\n",
              "    <tr>\n",
              "      <th>3</th>\n",
              "      <td>0.03237</td>\n",
              "      <td>0.458</td>\n",
              "      <td>6.998</td>\n",
              "      <td>45.8</td>\n",
              "      <td>18.7</td>\n",
              "      <td>2.94</td>\n",
              "      <td>33.4</td>\n",
              "    </tr>\n",
              "    <tr>\n",
              "      <th>4</th>\n",
              "      <td>0.06905</td>\n",
              "      <td>0.458</td>\n",
              "      <td>7.147</td>\n",
              "      <td>54.2</td>\n",
              "      <td>18.7</td>\n",
              "      <td>5.33</td>\n",
              "      <td>36.2</td>\n",
              "    </tr>\n",
              "  </tbody>\n",
              "</table>\n",
              "</div>"
            ],
            "text/plain": [
              "      CRIM    NOX     RM   AGE  PTRATIO  LSTAT  PRICE\n",
              "0  0.00632  0.538  6.575  65.2     15.3   4.98   24.0\n",
              "1  0.02731  0.469  6.421  78.9     17.8   9.14   21.6\n",
              "2  0.02729  0.469  7.185  61.1     17.8   4.03   34.7\n",
              "3  0.03237  0.458  6.998  45.8     18.7   2.94   33.4\n",
              "4  0.06905  0.458  7.147  54.2     18.7   5.33   36.2"
            ]
          },
          "metadata": {},
          "execution_count": 109
        }
      ]
    },
    {
      "cell_type": "code",
      "metadata": {
        "id": "5rpl5R6IKNEb"
      },
      "source": [
        "# assign features matrix and target vector\n",
        "y = df['PRICE']\n",
        "X = df.drop(columns = 'PRICE')\n",
        "# split data into training set and test set\n",
        "X_train, X_test, y_train, y_test = train_test_split(X, y, random_state = 42)"
      ],
      "execution_count": 110,
      "outputs": []
    },
    {
      "cell_type": "markdown",
      "metadata": {
        "id": "q6OZ2NHgs-cY"
      },
      "source": [
        "First we will attempt to improve our model using bagged trees."
      ]
    },
    {
      "cell_type": "code",
      "metadata": {
        "id": "0BjFEgIpLT5M"
      },
      "source": [
        "# instantiate model\n",
        "bagreg = BaggingRegressor(random_state = 42)"
      ],
      "execution_count": 111,
      "outputs": []
    },
    {
      "cell_type": "code",
      "metadata": {
        "colab": {
          "base_uri": "https://localhost:8080/"
        },
        "id": "-6g_hojGMUuR",
        "outputId": "b069331f-bcc3-4aa1-a4c1-01321289a7d0"
      },
      "source": [
        "# train the model\n",
        "bagreg.fit(X_train, y_train)"
      ],
      "execution_count": 112,
      "outputs": [
        {
          "output_type": "execute_result",
          "data": {
            "text/plain": [
              "BaggingRegressor(random_state=42)"
            ]
          },
          "metadata": {},
          "execution_count": 112
        }
      ]
    },
    {
      "cell_type": "code",
      "metadata": {
        "colab": {
          "base_uri": "https://localhost:8080/"
        },
        "id": "CUqqES7MMpLN",
        "outputId": "aed20171-d719-40fc-d0a3-487a8476523f"
      },
      "source": [
        "# predict values for y\n",
        "bagreg.predict(X_test)"
      ],
      "execution_count": 113,
      "outputs": [
        {
          "output_type": "execute_result",
          "data": {
            "text/plain": [
              "array([24.04, 30.77, 18.39, 24.04, 16.09, 20.4 , 19.13, 15.03, 21.07,\n",
              "       21.39, 18.87, 19.46,  7.68, 19.44, 18.93, 25.27, 19.06,  7.87,\n",
              "       44.92, 14.98, 24.01, 23.58, 14.26, 24.63, 14.15, 12.82, 20.67,\n",
              "       14.2 , 19.37, 20.33, 20.6 , 23.18, 31.23, 21.4 , 13.94, 15.81,\n",
              "       36.2 , 19.6 , 20.22, 24.6 , 18.88, 25.75, 44.15, 20.44, 22.72,\n",
              "       14.5 , 14.95, 24.43, 16.76, 28.32, 22.93, 34.44, 15.92, 25.6 ,\n",
              "       47.42, 22.56, 15.93, 31.44, 21.34, 20.25, 27.03, 33.4 , 27.06,\n",
              "       19.23, 28.11, 16.18, 14.58, 22.82, 28.31, 16.5 , 19.59, 25.86,\n",
              "        9.79, 21.71, 21.47,  6.94, 20.52, 46.12, 11.9 , 14.74, 20.45,\n",
              "       11.14, 20.37,  9.44, 20.4 , 26.58, 16.95, 23.41, 24.52, 17.98,\n",
              "       23.  ,  7.34, 18.97, 20.09, 26.26, 20.12, 35.89, 11.42, 12.12,\n",
              "       12.27, 20.1 , 23.  , 11.72, 23.22, 20.29, 15.51, 18.07, 25.05,\n",
              "       21.62, 23.58,  7.73, 14.05, 21.61, 22.51, 33.87, 12.38, 43.51,\n",
              "       16.17, 18.67, 24.28, 20.11, 24.72,  8.68, 20.84, 24.5 , 21.74,\n",
              "       24.2 ])"
            ]
          },
          "metadata": {},
          "execution_count": 113
        }
      ]
    },
    {
      "cell_type": "code",
      "metadata": {
        "colab": {
          "base_uri": "https://localhost:8080/"
        },
        "id": "Iw0Xy117NSLr",
        "outputId": "271d9ea7-59d6-4aca-a4e1-e7ca79e2de53"
      },
      "source": [
        "# evaluate model performance\n",
        "bagreg_train_score = bagreg.score(X_train, y_train)\n",
        "bagreg_test_score = bagreg.score(X_test, y_test)\n",
        "print('Training R2: ', bagreg_train_score)\n",
        "print('Test R2: ', bagreg_test_score)"
      ],
      "execution_count": 114,
      "outputs": [
        {
          "output_type": "stream",
          "name": "stdout",
          "text": [
            "Training R2:  0.9606756023782893\n",
            "Test R2:  0.8204208271364619\n"
          ]
        }
      ]
    },
    {
      "cell_type": "markdown",
      "metadata": {
        "id": "u26-jT3pSHjA"
      },
      "source": [
        "We will edit hyperparameters in an effort to obtain better results."
      ]
    },
    {
      "cell_type": "code",
      "metadata": {
        "id": "aF9IvD1cO0PG"
      },
      "source": [
        "oneseventyfive_est = BaggingRegressor(n_estimators = 175, random_state = 42)"
      ],
      "execution_count": 143,
      "outputs": []
    },
    {
      "cell_type": "code",
      "metadata": {
        "colab": {
          "base_uri": "https://localhost:8080/"
        },
        "id": "sEGmeb2OR6Mr",
        "outputId": "58032f05-7e28-46bd-9bb9-ff6c3e89eec1"
      },
      "source": [
        "oneseventyfive_est.fit(X_train, y_train)"
      ],
      "execution_count": 144,
      "outputs": [
        {
          "output_type": "execute_result",
          "data": {
            "text/plain": [
              "BaggingRegressor(n_estimators=175, random_state=42)"
            ]
          },
          "metadata": {},
          "execution_count": 144
        }
      ]
    },
    {
      "cell_type": "code",
      "metadata": {
        "colab": {
          "base_uri": "https://localhost:8080/"
        },
        "id": "UDBBCW5wSBfS",
        "outputId": "e4d6e05f-d56e-4477-f791-11359784046a"
      },
      "source": [
        "oneseventyfive_est.predict(X_test)"
      ],
      "execution_count": 145,
      "outputs": [
        {
          "output_type": "execute_result",
          "data": {
            "text/plain": [
              "array([23.13885714, 32.15885714, 18.568     , 23.04571429, 16.17485714,\n",
              "       20.75314286, 18.78742857, 15.21771429, 21.14      , 21.13314286,\n",
              "       20.072     , 20.24628571,  8.18685714, 21.42342857, 19.61657143,\n",
              "       26.54914286, 19.46457143,  8.47885714, 46.14171429, 15.07428571,\n",
              "       23.68571429, 23.548     , 14.484     , 23.68114286, 15.05714286,\n",
              "       13.59714286, 21.204     , 14.19771429, 18.90171429, 21.15885714,\n",
              "       20.028     , 23.34971429, 28.51771429, 21.58685714, 14.21028571,\n",
              "       16.02514286, 34.94971429, 19.20457143, 20.60228571, 23.88457143,\n",
              "       18.83314286, 28.06514286, 45.35314286, 20.00057143, 22.84228571,\n",
              "       14.10971429, 15.08914286, 23.784     , 17.77828571, 28.23085714,\n",
              "       21.91085714, 34.09371429, 16.22      , 26.16571429, 45.06457143,\n",
              "       22.04228571, 16.04971429, 32.42914286, 22.14571429, 20.712     ,\n",
              "       26.36685714, 33.65142857, 30.70114286, 19.83085714, 27.43828571,\n",
              "       16.26914286, 14.88057143, 22.93371429, 27.89485714, 16.75885714,\n",
              "       20.46114286, 30.39371429, 10.48228571, 21.05542857, 21.23771429,\n",
              "        7.23142857, 20.03085714, 46.64628571, 12.05485714, 13.44857143,\n",
              "       21.892     , 12.82971429, 20.55885714,  9.21371429, 20.77142857,\n",
              "       27.14571429, 15.92857143, 23.308     , 24.15542857, 17.67542857,\n",
              "       21.99657143,  7.77657143, 18.792     , 20.40285714, 24.82457143,\n",
              "       19.16971429, 32.67485714, 12.928     , 13.16514286, 12.884     ,\n",
              "       19.87942857, 23.92171429, 12.87885714, 20.56285714, 20.99142857,\n",
              "       13.828     , 19.21085714, 24.84457143, 20.20628571, 23.64285714,\n",
              "        9.31371429, 16.30685714, 22.53485714, 22.54857143, 33.60742857,\n",
              "       13.58228571, 42.49657143, 16.14685714, 19.804     , 23.83714286,\n",
              "       19.93428571, 24.17428571,  7.75485714, 20.53085714, 24.03428571,\n",
              "       21.78      , 23.97257143])"
            ]
          },
          "metadata": {},
          "execution_count": 145
        }
      ]
    },
    {
      "cell_type": "code",
      "metadata": {
        "colab": {
          "base_uri": "https://localhost:8080/"
        },
        "id": "NhmcAC4aSGc5",
        "outputId": "6a7efe7f-2665-450f-ef99-45a0ced6675c"
      },
      "source": [
        "new_est_train = oneseventyfive_est.score(X_train, y_train)\n",
        "new_est_test = oneseventyfive_est.score(X_test, y_test)\n",
        "print('Training R2: ', new_est_train)\n",
        "print('Test R2: ', new_est_test)"
      ],
      "execution_count": 146,
      "outputs": [
        {
          "output_type": "stream",
          "name": "stdout",
          "text": [
            "Training R2:  0.9765560621620677\n",
            "Test R2:  0.8376530781385059\n"
          ]
        }
      ]
    },
    {
      "cell_type": "code",
      "metadata": {
        "id": "wcp9HXNDTEUx"
      },
      "source": [
        "est_range = list(range(2,300))\n",
        "r2 = []\n",
        "for est in est_range:\n",
        "  baggedreg = BaggingRegressor(n_estimators = est, random_state = 42)\n",
        "  baggedreg.fit(X_train, y_train)\n",
        "  score = baggedreg.score(X_test, y_test)\n",
        "  r2.append(score)"
      ],
      "execution_count": 119,
      "outputs": []
    },
    {
      "cell_type": "code",
      "metadata": {
        "colab": {
          "base_uri": "https://localhost:8080/",
          "height": 281
        },
        "id": "RzkH9cuCoPG_",
        "outputId": "a2a5ddb7-2be2-43c1-ee96-bfcca26d9631"
      },
      "source": [
        "plt.plot(est_range, r2)\n",
        "plt.xlabel('Max_depth')\n",
        "plt.ylabel('r2');"
      ],
      "execution_count": 120,
      "outputs": [
        {
          "output_type": "display_data",
          "data": {
            "image/png": "[encoded data removed]",
            "text/plain": [
              "<Figure size 432x288 with 1 Axes>"
            ]
          },
          "metadata": {
            "needs_background": "light"
          }
        }
      ]
    },
    {
      "cell_type": "markdown",
      "metadata": {
        "id": "1f3Svbr6sbSO"
      },
      "source": [
        "The original Decision Tree Regression had an r2 of 0.8464 on the testing data.  We are not able to improve the results using bagged trees."
      ]
    },
    {
      "cell_type": "markdown",
      "metadata": {
        "id": "lEJbt2EWtGMs"
      },
      "source": [
        "Now we will attempt to improve our model using Random Forest Regression."
      ]
    },
    {
      "cell_type": "code",
      "metadata": {
        "id": "YR-V6alyppKQ"
      },
      "source": [
        "# instantiate model\n",
        "rf = RandomForestRegressor(random_state = 42)"
      ],
      "execution_count": 148,
      "outputs": []
    },
    {
      "cell_type": "code",
      "metadata": {
        "colab": {
          "base_uri": "https://localhost:8080/"
        },
        "id": "_eJ9Bk6Bvdvr",
        "outputId": "8b17ade4-c15e-45f3-c03e-8af7f777b96e"
      },
      "source": [
        "# train the model\n",
        "rf.fit(X_train, y_train)"
      ],
      "execution_count": 149,
      "outputs": [
        {
          "output_type": "execute_result",
          "data": {
            "text/plain": [
              "RandomForestRegressor(random_state=42)"
            ]
          },
          "metadata": {},
          "execution_count": 149
        }
      ]
    },
    {
      "cell_type": "code",
      "metadata": {
        "colab": {
          "base_uri": "https://localhost:8080/"
        },
        "id": "AESG091czsQq",
        "outputId": "ac9c2115-fe9e-49e5-85f8-c71017d28b6d"
      },
      "source": [
        "# see scores for default Random Forest\n",
        "rftrain_score = rf.score(X_train, y_train)\n",
        "rftest_score = rf.score(X_test, y_test)\n",
        "print(rftrain_score)\n",
        "print(rftest_score)"
      ],
      "execution_count": 150,
      "outputs": [
        {
          "output_type": "stream",
          "name": "stdout",
          "text": [
            "0.9771342521069045\n",
            "0.8338530730048258\n"
          ]
        }
      ]
    },
    {
      "cell_type": "code",
      "metadata": {
        "colab": {
          "base_uri": "https://localhost:8080/"
        },
        "id": "hg5XHqpi1urT",
        "outputId": "156e88b3-a348-4535-ca57-b8f77fe93af1"
      },
      "source": [
        "# view depths\n",
        "[estimator.get_depth() for estimator in rf.estimators_]"
      ],
      "execution_count": 151,
      "outputs": [
        {
          "output_type": "execute_result",
          "data": {
            "text/plain": [
              "[19,\n",
              " 17,\n",
              " 18,\n",
              " 18,\n",
              " 17,\n",
              " 17,\n",
              " 19,\n",
              " 17,\n",
              " 16,\n",
              " 17,\n",
              " 19,\n",
              " 18,\n",
              " 18,\n",
              " 16,\n",
              " 17,\n",
              " 18,\n",
              " 19,\n",
              " 17,\n",
              " 20,\n",
              " 17,\n",
              " 17,\n",
              " 18,\n",
              " 16,\n",
              " 17,\n",
              " 18,\n",
              " 18,\n",
              " 19,\n",
              " 17,\n",
              " 23,\n",
              " 17,\n",
              " 18,\n",
              " 17,\n",
              " 15,\n",
              " 18,\n",
              " 18,\n",
              " 17,\n",
              " 20,\n",
              " 15,\n",
              " 18,\n",
              " 15,\n",
              " 17,\n",
              " 16,\n",
              " 17,\n",
              " 16,\n",
              " 15,\n",
              " 16,\n",
              " 16,\n",
              " 16,\n",
              " 16,\n",
              " 18,\n",
              " 20,\n",
              " 18,\n",
              " 17,\n",
              " 18,\n",
              " 19,\n",
              " 17,\n",
              " 20,\n",
              " 17,\n",
              " 16,\n",
              " 20,\n",
              " 19,\n",
              " 17,\n",
              " 18,\n",
              " 17,\n",
              " 14,\n",
              " 20,\n",
              " 15,\n",
              " 14,\n",
              " 20,\n",
              " 17,\n",
              " 20,\n",
              " 16,\n",
              " 15,\n",
              " 18,\n",
              " 18,\n",
              " 16,\n",
              " 16,\n",
              " 19,\n",
              " 15,\n",
              " 17,\n",
              " 16,\n",
              " 17,\n",
              " 18,\n",
              " 18,\n",
              " 20,\n",
              " 22,\n",
              " 17,\n",
              " 21,\n",
              " 16,\n",
              " 14,\n",
              " 16,\n",
              " 16,\n",
              " 20,\n",
              " 19,\n",
              " 16,\n",
              " 17,\n",
              " 20,\n",
              " 19,\n",
              " 17,\n",
              " 17]"
            ]
          },
          "metadata": {},
          "execution_count": 151
        }
      ]
    },
    {
      "cell_type": "code",
      "metadata": {
        "id": "ozz2_kBd0PK0"
      },
      "source": [
        "# test optimal max depth\n",
        "max_depth_range = list(range(2,25))\n",
        "r2 = []\n",
        "for depth in max_depth_range:\n",
        "  rand_for = RandomForestRegressor(max_depth = depth, random_state = 42)\n",
        "  rand_for.fit(X_train, y_train)\n",
        "  score = rand_for.score(X_test, y_test)\n",
        "  r2.append(score)"
      ],
      "execution_count": 152,
      "outputs": []
    },
    {
      "cell_type": "code",
      "metadata": {
        "colab": {
          "base_uri": "https://localhost:8080/",
          "height": 282
        },
        "id": "EoYwCOFh2HBr",
        "outputId": "1445aa14-bb57-4b16-c21c-947a6bed5b0c"
      },
      "source": [
        "# visualize optimal max depth\n",
        "plt.plot(max_depth_range, r2)\n",
        "plt.xlabel('Max_depth')\n",
        "plt.ylabel('r2');"
      ],
      "execution_count": 153,
      "outputs": [
        {
          "output_type": "display_data",
          "data": {
            "image/png": "[encoded data removed]",
            "text/plain": [
              "<Figure size 432x288 with 1 Axes>"
            ]
          },
          "metadata": {
            "needs_background": "light"
          }
        }
      ]
    },
    {
      "cell_type": "markdown",
      "metadata": {
        "id": "2zVR6yrL2wVZ"
      },
      "source": [
        "The optimal max_depth for the RandomForest is 10."
      ]
    },
    {
      "cell_type": "code",
      "metadata": {
        "id": "QkkTJX-d8DmO"
      },
      "source": [
        "est_range = list(range(2,250))\n",
        "r2 = []\n",
        "for est in est_range:\n",
        "  rand_forest = RandomForestRegressor(n_estimators = est, max_depth = 10, random_state = 42)\n",
        "  rand_forest.fit(X_train, y_train)\n",
        "  score = rand_forest.score(X_test, y_test)\n",
        "  r2.append(score)"
      ],
      "execution_count": 158,
      "outputs": []
    },
    {
      "cell_type": "code",
      "metadata": {
        "colab": {
          "base_uri": "https://localhost:8080/",
          "height": 279
        },
        "id": "havCs9Ej8yPD",
        "outputId": "d36e062a-0565-4f43-eb7d-c9654373d826"
      },
      "source": [
        "plt.plot(est_range, r2)\n",
        "plt.xlabel('Estimators')\n",
        "plt.ylabel('r2');"
      ],
      "execution_count": 159,
      "outputs": [
        {
          "output_type": "display_data",
          "data": {
            "image/png": "[encoded data removed]",
            "text/plain": [
              "<Figure size 432x288 with 1 Axes>"
            ]
          },
          "metadata": {
            "needs_background": "light"
          }
        }
      ]
    },
    {
      "cell_type": "markdown",
      "metadata": {
        "id": "0J3FYbXm97p6"
      },
      "source": [
        "The optimal n_estimators value is 8."
      ]
    },
    {
      "cell_type": "code",
      "metadata": {
        "id": "QuVHY-Pm9MHq"
      },
      "source": [
        "random_forest = RandomForestRegressor(n_estimators = 8, max_depth = 10, random_state = 42)"
      ],
      "execution_count": 191,
      "outputs": []
    },
    {
      "cell_type": "code",
      "metadata": {
        "colab": {
          "base_uri": "https://localhost:8080/"
        },
        "id": "tWMYwJX09n7h",
        "outputId": "22b1b7c7-0b22-44e2-9c9e-bbb9ebe77502"
      },
      "source": [
        "random_forest.fit(X_train, y_train)"
      ],
      "execution_count": 192,
      "outputs": [
        {
          "output_type": "execute_result",
          "data": {
            "text/plain": [
              "RandomForestRegressor(max_depth=10, n_estimators=8, random_state=42)"
            ]
          },
          "metadata": {},
          "execution_count": 192
        }
      ]
    },
    {
      "cell_type": "code",
      "metadata": {
        "colab": {
          "base_uri": "https://localhost:8080/"
        },
        "id": "NTT8MmlR9yyj",
        "outputId": "8c9e568c-2f34-4f02-c6ea-672dc7e59bcf"
      },
      "source": [
        "optimal_rf_train = random_forest.score(X_train, y_train)\n",
        "optimal_rf_test = random_forest.score(X_test, y_test)\n",
        "print('The optimized R2 of the Training set is: ', optimal_rf_train)\n",
        "print('The optimized R2 of the Test set is: ', optimal_rf_test)"
      ],
      "execution_count": 193,
      "outputs": [
        {
          "output_type": "stream",
          "name": "stdout",
          "text": [
            "The optimized R2 of the Training set is:  0.960259539838032\n",
            "The optimized R2 of the Test set is:  0.8457086662635044\n"
          ]
        }
      ]
    },
    {
      "cell_type": "markdown",
      "metadata": {
        "id": "9FRmKWnNKaxv"
      },
      "source": [
        "We were not able to beat the original model with either bagged trees or a random forest regression."
      ]
    },
    {
      "cell_type": "code",
      "metadata": {
        "id": "4bW6VGYBKknd"
      },
      "source": [
        ""
      ],
      "execution_count": null,
      "outputs": []
    }
  ]
}